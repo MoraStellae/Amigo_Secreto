{
  "nbformat": 4,
  "nbformat_minor": 0,
  "metadata": {
    "colab": {
      "provenance": [],
      "authorship_tag": "ABX9TyNs/Cpke+inWYpaU2IKYRJY",
      "include_colab_link": true
    },
    "kernelspec": {
      "name": "python3",
      "display_name": "Python 3"
    },
    "language_info": {
      "name": "python"
    }
  },
  "cells": [
    {
      "cell_type": "markdown",
      "metadata": {
        "id": "view-in-github",
        "colab_type": "text"
      },
      "source": [
        "<a href=\"https://colab.research.google.com/github/MoraStellae/Amigo_Secreto/blob/main/Amigo_secreto.ipynb\" target=\"_parent\"><img src=\"https://colab.research.google.com/assets/colab-badge.svg\" alt=\"Open In Colab\"/></a>"
      ]
    },
    {
      "cell_type": "markdown",
      "source": [
        "# Amigo Secreto.\n",
        "\n",
        "Integrantes: Ale, Javi, Kali, Patty, Pablito, Scheartz, Lucas, Nacho, Martín, Maca y Mora."
      ],
      "metadata": {
        "id": "nWvRtHONQfRx"
      }
    },
    {
      "cell_type": "code",
      "source": [
        "import random\n",
        "from tabulate import tabulate"
      ],
      "metadata": {
        "id": "PK5Hlbu0TSPi"
      },
      "execution_count": 1,
      "outputs": []
    },
    {
      "cell_type": "code",
      "execution_count": 2,
      "metadata": {
        "id": "BUSSPz-2ORR_"
      },
      "outputs": [],
      "source": [
        "def amigo_secreto():\n",
        "\n",
        "\n",
        "  '''  Función que me permite seleccionar al amigo secreto entre una lista de nombres, sin que este se repita  '''\n",
        "\n",
        "\n",
        "  # Nombres de los concursantes (se puede modificar)\n",
        "  nombres_concursantes = [\"Ale\", \"Javi\", \"Kali\", \"Patty\", \"Pablito\", \"Scheartz\", \"Lucas\", \"Nacho\", \"Martín\", \"Maca\", \"Mora\"]\n",
        "\n",
        "\n",
        "  # Se crea una lista vacía para proximamente agrupar los nombres de los cuales se le realizará el sorteo.\n",
        "  nombres_sorteo = []\n",
        "\n",
        "\n",
        "  # Hacemos uso del ciclo for para ingresar dichos nombres al la lista nombres_sorteo.\n",
        "  for nombre in range(len(nombres_concursantes)):  \n",
        "    nombres_sorteo.append(nombres_concursantes[nombre])\n",
        "\n",
        "\n",
        "  # Se realiza el sorteo haciendo uso del random.shuffle a la lista nombres_sorteo\n",
        "  random.shuffle(nombres_sorteo)\n",
        "\n",
        "\n",
        "  # Aplicando el siguiente ciclo for, nos aseguramos de que no se repita ningun nombre con el si mismo.\n",
        "  for j in range(len(nombres_concursantes)):\n",
        "\n",
        "    if nombres_concursantes[j] == nombres_sorteo[j]:\n",
        "      random.shuffle(nombres_sorteo)\n",
        "\n",
        "\n",
        "  # Ahora visualizamos a quien de los concursantes fue asignado su nombre.\n",
        "\n",
        "  print(\"Los resultados del sorteo del amigo secreto son los siguientes: \")\n",
        "  print(\" \\n \")\n",
        "\n",
        "  # Agregamos una lista vacía para luego agrupar los resultados\n",
        "  resultados = []\n",
        "\n",
        "  # Hacemos nuevamente uso del ciclo for. para agregar los valores a la lista resultados.\n",
        "  for i in range(len(nombres_concursantes)):\n",
        "    resultados.append([nombres_concursantes[i], nombres_sorteo[i]])\n",
        "\n",
        "  # Se agrega al primer elemento de la lista de resultados para así asignar un título a la próxima tabla.\n",
        "  resultados.insert(0, [\"Quien da el regalo\", \"Quien recibe el regalo\"])\n",
        "\n",
        "\n",
        "  # Como salida, se usa la biblioteca tabulate para poder tabular y asignar como tabla los resultados.\n",
        "  return print(tabulate(resultados, headers = \"firstrow\", tablefmt = \"psql\"))"
      ]
    },
    {
      "cell_type": "code",
      "source": [
        "amigo_secreto()"
      ],
      "metadata": {
        "colab": {
          "base_uri": "https://localhost:8080/"
        },
        "id": "Q73exSIhmOwQ",
        "outputId": "f9dff573-e77d-4ccc-d7b2-71a69f5e6f39"
      },
      "execution_count": 14,
      "outputs": [
        {
          "output_type": "stream",
          "name": "stdout",
          "text": [
            "Los resultados del sorteo del amigo secreto son los siguientes: \n",
            " \n",
            " \n",
            "+----------------------+--------------------------+\n",
            "| Quien da el regalo   | Quien recibe el regalo   |\n",
            "|----------------------+--------------------------|\n",
            "| Ale                  | Martín                   |\n",
            "| Javi                 | Scheartz                 |\n",
            "| Kali                 | Mora                     |\n",
            "| Patty                | Patty                    |\n",
            "| Pablito              | Lucas                    |\n",
            "| Scheartz             | Kali                     |\n",
            "| Lucas                | Javi                     |\n",
            "| Nacho                | Pablito                  |\n",
            "| Martín               | Maca                     |\n",
            "| Maca                 | Nacho                    |\n",
            "| Mora                 | Ale                      |\n",
            "+----------------------+--------------------------+\n"
          ]
        }
      ]
    },
    {
      "cell_type": "code",
      "source": [],
      "metadata": {
        "id": "GCEAL1ujyzzL"
      },
      "execution_count": 4,
      "outputs": []
    }
  ]
}